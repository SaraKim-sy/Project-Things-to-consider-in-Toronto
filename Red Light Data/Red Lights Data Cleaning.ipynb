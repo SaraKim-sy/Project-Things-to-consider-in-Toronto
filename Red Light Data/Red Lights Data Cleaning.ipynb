{
 "cells": [
  {
   "cell_type": "code",
   "execution_count": 3,
   "metadata": {},
   "outputs": [],
   "source": [
    "#import dependencies\n",
    "import pandas as pd \n",
    "import matplotlib.pyplot as plt\n",
    "import geopandas as gpd\n",
    "gpd.options.use_pygeos = False\n",
    "import seaborn as sns\n",
    "import os\n",
    "import numpy as np"
   ]
  },
  {
   "cell_type": "code",
   "execution_count": 5,
   "metadata": {},
   "outputs": [],
   "source": [
    "from shapely.geometry import Point, Polygon\n",
    "import shapely\n",
    "shapely.speedups.disable()"
   ]
  },
  {
   "cell_type": "code",
   "execution_count": null,
   "metadata": {},
   "outputs": [],
   "source": [
    "nb = os.path.join('Resources',\"Neighbourhoods\",\"Neighbourhoods-Copy1.shp\")\n",
    "regions = gpd.read_file(nb)\n",
    "regions['neighbourhood'] = regions['FIELD_7'].str.replace(' \\(.+\\)', '').str.lower()\n",
    "regions.head()"
   ]
  },
  {
   "cell_type": "code",
   "execution_count": null,
   "metadata": {},
   "outputs": [],
   "source": [
    "regions['geometry']"
   ]
  },
  {
   "cell_type": "code",
   "execution_count": null,
   "metadata": {},
   "outputs": [],
   "source": [
    "#build dataframe\n",
    "lights_df = pd.read_csv('Resources/Red Light Cameras Data.csv')\n",
    "lights_df.head()"
   ]
  },
  {
   "cell_type": "code",
   "execution_count": null,
   "metadata": {},
   "outputs": [],
   "source": [
    "# Create a set of starbucks locations lat and lng combinations\n",
    "lng_lats = []\n",
    "\n",
    "lngs = lights_df['LONGITUDE']\n",
    "lats = lights_df['LATITUDE']\n",
    "\n",
    "lng_lats = zip(lngs, lats)\n",
    "\n",
    "neighbourhood_id = []\n",
    "neighbourhood_name = []\n",
    "lats_list = []\n",
    "lngs_list = []\n",
    "\n",
    "for lng_lat in lng_lats:\n",
    "    point = Point(lng_lat[0], lng_lat[1])\n",
    "    \n",
    "    for i in np.arange(len(regions)):\n",
    "        poly = regions.loc[i, 'geometry']\n",
    "        \n",
    "        if point.within(poly):\n",
    "            neighbourhood_id.append(regions.loc[i, 'FIELD_6'])\n",
    "            neighbourhood_name.append(regions.loc[i, 'FIELD_7'])\n",
    "            lats_list.append(lng_lat[1])\n",
    "            lngs_list.append(lng_lat[0])"
   ]
  },
  {
   "cell_type": "code",
   "execution_count": null,
   "metadata": {},
   "outputs": [],
   "source": [
    "lights_dict = {\n",
    "    'Lat' : lats_list,\n",
    "    'Long' : lngs_list,\n",
    "    'Hood ID' : neighbourhood_id,\n",
    "    'Neighbourhood' : neighbourhood_name\n",
    "}\n",
    "\n",
    "clean_lights = pd.DataFrame(lights_dict)\n",
    "\n",
    "clean_lights"
   ]
  },
  {
   "cell_type": "code",
   "execution_count": null,
   "metadata": {},
   "outputs": [],
   "source": [
    "lights_val_counts = clean_lights['Neighbourhood'].value_counts()"
   ]
  },
  {
   "cell_type": "code",
   "execution_count": null,
   "metadata": {},
   "outputs": [],
   "source": [
    "# number of red lights each location\n",
    "lights_val_counts = lights_val_counts.reset_index()\n",
    "lights_val_counts.columns = ['Neighbourhood', 'Number of Red Lights']\n",
    "\n",
    "lights_val_counts"
   ]
  },
  {
   "cell_type": "code",
   "execution_count": null,
   "metadata": {},
   "outputs": [],
   "source": [
    "clean_lights_df = clean_lights.drop_duplicates(subset='Neighbourhood', keep='first')\n",
    "clean_lights_df"
   ]
  },
  {
   "cell_type": "code",
   "execution_count": null,
   "metadata": {},
   "outputs": [],
   "source": [
    "lights_final = pd.merge(lights_val_counts, clean_lights_df, on='Neighbourhood', how='inner')\n",
    "lights_final.head()"
   ]
  },
  {
   "cell_type": "code",
   "execution_count": null,
   "metadata": {},
   "outputs": [],
   "source": [
    "lights_final.drop(['Lat', 'Long'], axis='columns', inplace=True)\n",
    "lights_final = lights_final[['Hood ID','Neighbourhood','Number of Red Lights']]\n",
    "lights_final.rename(columns={\"Hood ID\": \"Hood_ID\"}, inplace=True)"
   ]
  },
  {
   "cell_type": "code",
   "execution_count": null,
   "metadata": {},
   "outputs": [],
   "source": [
    "lights_final"
   ]
  }
 ],
 "metadata": {
  "kernelspec": {
   "display_name": "Python 3",
   "language": "python",
   "name": "python3"
  },
  "language_info": {
   "codemirror_mode": {
    "name": "ipython",
    "version": 3
   },
   "file_extension": ".py",
   "mimetype": "text/x-python",
   "name": "python",
   "nbconvert_exporter": "python",
   "pygments_lexer": "ipython3",
   "version": "3.8.3"
  }
 },
 "nbformat": 4,
 "nbformat_minor": 4
}
